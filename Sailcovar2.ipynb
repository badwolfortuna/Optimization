{
 "cells": [
  {
   "cell_type": "code",
   "execution_count": 2,
   "metadata": {},
   "outputs": [
    {
     "name": "stdout",
     "output_type": "stream",
     "text": [
      "Boats to build regular labor: 40 40 40 40\n",
      "Boats to build extra labor: 15 15 15 15\n",
      "Inventories: 10 25 20 0 30\n",
      " cp: 5 0 0 0 \n",
      " cn: 0 0 0 0 \n",
      " Objective cost: 94700.000000\n",
      "Coin0506I Presolve 8 (-3) rows, 20 (-3) columns and 37 (-7) elements\n",
      "Clp0006I 0  Obj 400 Primal inf 250 (5)\n",
      "Clp0006I 8  Obj 94700\n",
      "Clp0000I Optimal - objective value 94700\n",
      "Coin0511I After Postsolve, objective 94700, infeasibilities - dual 0 (0), primal 0 (0)\n",
      "Clp0032I Optimal objective 94700 - 8 iterations time 0.002, Presolve 0.00\n"
     ]
    }
   ],
   "source": [
    "  \n",
    "using JuMP, Clp, Printf\n",
    "\n",
    "d = [40 60 75 25]                   # monthly demand for boats\n",
    "\n",
    "m = Model(with_optimizer(Clp.Optimizer))\n",
    "\n",
    "@variable(m, 0 <= x[1:5] <= 40)       # boats produced with regular labor\n",
    "@variable(m, y[1:5] >= 0)             # boats produced with overtime labor\n",
    "@variable(m, h[2:6] >= 0) \n",
    "@variable(m, cp[2:5] >=0)\n",
    "@variable(m, cn[2:5] >=0)\n",
    "@constraint(m, h[2] == 10)\n",
    "@constraint(m, x[1]+y[1] == 50)\n",
    "@constraint(m, flow[i in 2:5], h[i]+x[i]+y[i]==d[i-1]+h[i+1]) \n",
    "@constraint(m, flowx[i in 2:5], x[i]+y[i]-(x[i-1]+y[i-1])==cp[i]-cn[i]) \n",
    "@constraint(m, h[6] >= 10)\n",
    "@objective(m, Min, 400*sum(x[2:5]) + 450*sum(y[2:5]) + 20*sum(h)+400*sum(cp)+500*sum(cn))         # minimize costs\n",
    "\n",
    "optimize!(m)\n",
    "\n",
    "@printf(\"Boats to build regular labor: %d %d %d %d\\n\", value(x[2]), value(x[3]), value(x[4]), value(x[5]))\n",
    "@printf(\"Boats to build extra labor: %d %d %d %d\\n\", value(y[2]), value(y[3]), value(y[4]), value(y[5]))\n",
    "@printf(\"Inventories: %d %d %d %d %d\\n \", value(h[2]), value(h[3]), value(h[4]), value(h[5]), value(h[6]))\n",
    "@printf(\"cp: %d %d %d %d \\n \", value(cp[2]), value(cp[3]), value(cp[4]), value(cp[5]))\n",
    "@printf(\"cn: %d %d %d %d \\n \", value(cn[2]), value(cn[3]), value(cn[4]), value(cn[5]))\n",
    "@printf(\"Objective cost: %f\\n\", objective_value(m))"
   ]
  },
  {
   "cell_type": "code",
   "execution_count": null,
   "metadata": {},
   "outputs": [],
   "source": []
  }
 ],
 "metadata": {
  "kernelspec": {
   "display_name": "Julia 1.2.0",
   "language": "julia",
   "name": "julia-1.2"
  },
  "language_info": {
   "file_extension": ".jl",
   "mimetype": "application/julia",
   "name": "julia",
   "version": "1.2.0"
  }
 },
 "nbformat": 4,
 "nbformat_minor": 2
}
