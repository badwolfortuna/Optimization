{
 "cells": [
  {
   "cell_type": "code",
   "execution_count": 4,
   "metadata": {},
   "outputs": [
    {
     "name": "stdout",
     "output_type": "stream",
     "text": [
      "Boats to build regular labor: 40 40 40 31 40\n",
      "Boats to build extra labor: 0 10 35 0 0\n",
      "Inventories: 10 10 0 0 6 10\n",
      " Objective cost: 97370.000000\n",
      "Coin0506I Presolve 5 (-2) rows, 15 (-1) columns and 19 (-3) elements\n",
      "Clp0006I 0  Obj 400 Primal inf 236 (5)\n",
      "Clp0006I 6  Obj 97370\n",
      "Clp0000I Optimal - objective value 97370\n",
      "Coin0511I After Postsolve, objective 97370, infeasibilities - dual 0 (0), primal 0 (0)\n",
      "Clp0032I Optimal objective 97370 - 6 iterations time 0.002, Presolve 0.00\n"
     ]
    }
   ],
   "source": [
    "using JuMP, Clp, Printf\n",
    "\n",
    "d = [40 60 75 25 36]                   # monthly demand for boats\n",
    "\n",
    "m = Model(with_optimizer(Clp.Optimizer))\n",
    "\n",
    "@variable(m, 0 <= x[1:5] <= 40)       # boats produced with regular labor\n",
    "@variable(m, y[1:5] >= 0)             # boats produced with overtime labor\n",
    "@variable(m, h[1:6] >= 0)             # boats held in inventory\n",
    "@constraint(m, h[1] == 10)  #initial boats in inventory \n",
    "@constraint(m, flow[i in 1:5], h[i]+x[i]+y[i]==d[i]+h[i+1])   # conservation of boats\n",
    "@constraint(m,h[6]>=10) #end of quarter we have at least 10 boats \n",
    "@objective(m, Min, 400*sum(x) + 450*sum(y) + 20*sum(h))         # minimize costs\n",
    "\n",
    "optimize!(m)\n",
    "\n",
    "@printf(\"Boats to build regular labor: %d %d %d %d %d\\n\", value(x[1]), value(x[2]), value(x[3]), value(x[4]),value(x[5]))\n",
    "@printf(\"Boats to build extra labor: %d %d %d %d %d\\n\", value(y[1]), value(y[2]), value(y[3]), value(y[4]),value(y[5]))\n",
    "@printf(\"Inventories: %d %d %d %d %d %d\\n \", value(h[1]), value(h[2]), value(h[3]), value(h[4]), value(h[5]),value(h[6]))\n",
    "\n",
    "@printf(\"Objective cost: %f\\n\", objective_value(m))"
   ]
  },
  {
   "cell_type": "code",
   "execution_count": null,
   "metadata": {},
   "outputs": [],
   "source": []
  }
 ],
 "metadata": {
  "kernelspec": {
   "display_name": "Julia 1.2.0",
   "language": "julia",
   "name": "julia-1.2"
  },
  "language_info": {
   "file_extension": ".jl",
   "mimetype": "application/julia",
   "name": "julia",
   "version": "1.2.0"
  }
 },
 "nbformat": 4,
 "nbformat_minor": 2
}
