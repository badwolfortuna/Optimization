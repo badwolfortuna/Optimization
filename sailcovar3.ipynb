{
 "cells": [
  {
   "cell_type": "code",
   "execution_count": 1,
   "metadata": {},
   "outputs": [
    {
     "name": "stdout",
     "output_type": "stream",
     "text": [
      "Boats to build regular labor: 0 40 40 40 40\n",
      "Boats to build extra labor: 50 10 10 10 10\n",
      " Positive Inventories: 10 20 10 0 10\n",
      " Negative Inventories: 0 0 0 15 0\n",
      " Objective cost: 84500.000000\n",
      "Coin0506I Presolve 8 (-4) rows, 24 (-4) columns and 44 (-9) elements\n",
      "Clp0006I 0  Obj 400 Primal inf 250 (5)\n",
      "Clp0006I 7  Obj 84500\n",
      "Clp0000I Optimal - objective value 84500\n",
      "Coin0511I After Postsolve, objective 84500, infeasibilities - dual 0 (0), primal 0 (0)\n",
      "Clp0032I Optimal objective 84500 - 7 iterations time 0.002, Presolve 0.00\n"
     ]
    }
   ],
   "source": [
    "  \n",
    "using JuMP, Clp, Printf\n",
    "\n",
    "d = [40 60 75 25]                   # monthly demand for boats\n",
    "\n",
    "m = Model(with_optimizer(Clp.Optimizer))\n",
    "\n",
    "@variable(m, 0 <= x[1:5] <= 40)       # boats produced with regular labor\n",
    "@variable(m, y[1:5] >= 0)             # boats produced with overtime labor\n",
    "@variable(m, hp[2:6] >= 0) \n",
    "@variable(m, hn[2:6] >= 0) \n",
    "\n",
    "@variable(m, cp[2:5] >=0)\n",
    "@variable(m, cn[2:5] >=0)\n",
    "@constraint(m, hp[6] >= 10)\n",
    "\n",
    "@constraint(m, x[1]+y[1] == 50)\n",
    "@constraint(m, hp[2] == 10)\n",
    "@constraint(m, flow[i in 2:5], hp[i]-hn[i]+x[i]+y[i]==d[i-1]+hp[i+1]-hn[i+1]) \n",
    "@constraint(m, flowx[i in 2:5], x[i]+y[i]-(x[i-1]+y[i-1])==cp[i]-cn[i]) \n",
    "\n",
    "@constraint(m,hn[6]<=0)\n",
    "\n",
    "@objective(m, Min, 400*sum(x[2:5]) + 450*sum(y[2:5]) + 20*sum(hp)+400*sum(cp)+500*sum(cn)+100*sum(hn)  )       # minimize costs\n",
    "\n",
    "optimize!(m)\n",
    "\n",
    "@printf(\"Boats to build regular labor: %d %d %d %d %d\\n\",value(x[1]), value(x[2]), value(x[3]), value(x[4]), value(x[5]))\n",
    "@printf(\"Boats to build extra labor: %d %d %d %d %d\\n\",value(y[1]), value(y[2]), value(y[3]), value(y[4]), value(y[5]))\n",
    "@printf(\" Positive Inventories: %d %d %d %d %d\\n \", value(hp[2]), value(hp[3]), value(hp[4]), value(hp[5]), value(hp[6]))\n",
    "@printf(\"Negative Inventories: %d %d %d %d %d\\n \", value(hn[2]), value(hn[3]), value(hn[4]), value(hn[5]), value(hn[6]))\n",
    "@printf(\"Objective cost: %f\\n\", objective_value(m))"
   ]
  },
  {
   "cell_type": "code",
   "execution_count": null,
   "metadata": {},
   "outputs": [],
   "source": []
  },
  {
   "cell_type": "code",
   "execution_count": null,
   "metadata": {},
   "outputs": [],
   "source": []
  }
 ],
 "metadata": {
  "kernelspec": {
   "display_name": "Julia 1.2.0",
   "language": "julia",
   "name": "julia-1.2"
  },
  "language_info": {
   "file_extension": ".jl",
   "mimetype": "application/julia",
   "name": "julia",
   "version": "1.2.0"
  }
 },
 "nbformat": 4,
 "nbformat_minor": 2
}
